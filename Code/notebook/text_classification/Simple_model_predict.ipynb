{
 "cells": [
  {
   "cell_type": "markdown",
   "metadata": {},
   "source": [
    "# Classifying Posts by Simple Classification Model"
   ]
  },
  {
   "cell_type": "code",
   "execution_count": 2,
   "metadata": {},
   "outputs": [],
   "source": [
    "SEED = 7789\n",
    "import pandas as pd\n",
    "import numpy as np\n",
    "import random\n",
    "from nltk.tokenize import word_tokenize\n",
    "import nltk\n",
    "import string, re\n",
    "from sklearn.feature_extraction.text import CountVectorizer\n",
    "from sklearn.feature_extraction.text import TfidfTransformer\n",
    "from nltk.corpus import wordnet\n",
    "from nltk.corpus import stopwords\n",
    "from nltk.stem import WordNetLemmatizer\n",
    "import pandas_gbq as gbq\n",
    "import pydata_google_auth"
   ]
  },
  {
   "cell_type": "markdown",
   "metadata": {},
   "source": [
    "## Extracting All Posts including Keywords from BigQuery"
   ]
  },
  {
   "cell_type": "code",
   "execution_count": 4,
   "metadata": {},
   "outputs": [],
   "source": [
    "def bigquery_auth():\n",
    "    SCOPES = [\n",
    "    'https://www.googleapis.com/auth/cloud-platform',\n",
    "    'https://www.googleapis.com/auth/drive',]\n",
    "    \n",
    "    credentials = pydata_google_auth.get_user_credentials(\n",
    "    SCOPES,\n",
    "    # Set auth_local_webserver to True to have a slightly more convienient\n",
    "    # authorization flow. Note, this doesn't work if you're running from a\n",
    "    # notebook on a remote sever, such as over SSH or with Google Colab.\n",
    "    auth_local_webserver=True,)\n",
    "    \n",
    "bigquery_auth()"
   ]
  },
  {
   "cell_type": "code",
   "execution_count": 23,
   "metadata": {},
   "outputs": [],
   "source": [
    "immigration_query = '''\n",
    "(SELECT\n",
    "  *\n",
    "FROM\n",
    "  `1000_page_post.201501_to_201611_all`\n",
    "WHERE\n",
    "    TIMESTAMP(post_created_date_CT) >= TIMESTAMP('2015-05-01') AND\n",
    "  (LOWER(post_name) LIKE \"%immigration%\" OR\n",
    "  LOWER(post_message) LIKE \"%immigration%\" OR\n",
    "  LOWER(post_caption) LIKE \"%immigration%\" OR\n",
    "  LOWER(post_description) LIKE \"%immigration%\" OR\n",
    "  LOWER(post_name) LIKE \"%mexican%\" OR\n",
    "  LOWER(post_message) LIKE \"%mexican%\" OR\n",
    "  LOWER(post_caption) LIKE \"%mexican%\" OR\n",
    "  LOWER(post_description) LIKE \"%mexican%\" OR\n",
    "  LOWER(post_name) LIKE \"%muslim%\" OR\n",
    "  LOWER(post_message) LIKE \"%muslim%\" OR\n",
    "  LOWER(post_caption) LIKE \"%muslim%\" OR\n",
    "  LOWER(post_description) LIKE \"%muslim%\" OR\n",
    "  LOWER(post_name) LIKE \"%immigrant%\" OR\n",
    "  LOWER(post_message) LIKE \"%immigrant%\" OR\n",
    "  LOWER(post_caption) LIKE \"%immigrant%\" OR\n",
    "  LOWER(post_description) LIKE \"%immigrant%\"))\n",
    "UNION ALL\n",
    "(SELECT\n",
    "  *\n",
    "FROM\n",
    "  `politician_post.201501_to_201611_all`\n",
    "WHERE\n",
    "    TIMESTAMP(post_created_date_CT) >= TIMESTAMP('2015-05-01') AND\n",
    "  (LOWER(post_name) LIKE \"%immigration%\" OR\n",
    "  LOWER(post_message) LIKE \"%immigration%\" OR\n",
    "  LOWER(post_caption) LIKE \"%immigration%\" OR\n",
    "  LOWER(post_description) LIKE \"%immigration%\" OR\n",
    "  LOWER(post_name) LIKE \"%mexican%\" OR\n",
    "  LOWER(post_message) LIKE \"%mexican%\" OR\n",
    "  LOWER(post_caption) LIKE \"%mexican%\" OR\n",
    "  LOWER(post_description) LIKE \"%mexican%\" OR\n",
    "  LOWER(post_name) LIKE \"%muslim%\" OR\n",
    "  LOWER(post_message) LIKE \"%muslim%\" OR\n",
    "  LOWER(post_caption) LIKE \"%muslim%\" OR\n",
    "  LOWER(post_description) LIKE \"%muslim%\" OR\n",
    "  LOWER(post_name) LIKE \"%immigrant%\" OR\n",
    "  LOWER(post_message) LIKE \"%immigrant%\" OR\n",
    "  LOWER(post_caption) LIKE \"%immigrant%\" OR\n",
    "  LOWER(post_description) LIKE \"%immigrant%\"))\n",
    "'''"
   ]
  },
  {
   "cell_type": "code",
   "execution_count": 24,
   "metadata": {
    "scrolled": true
   },
   "outputs": [
    {
     "name": "stderr",
     "output_type": "stream",
     "text": [
      "Downloading: 100%|██████████| 669076/669076 [05:45<00:00, 1938.78rows/s]\n"
     ]
    }
   ],
   "source": [
    "immigration = gbq.read_gbq(immigration_query, project_id='ntufbdata')"
   ]
  },
  {
   "cell_type": "markdown",
   "metadata": {},
   "source": [
    "## Preprocessing"
   ]
  },
  {
   "cell_type": "code",
   "execution_count": 3,
   "metadata": {},
   "outputs": [],
   "source": [
    "def concat_messages(df):\n",
    "    df.post_name.fillna('', inplace=True)\n",
    "    df.post_message.fillna('', inplace=True)\n",
    "    df.post_description.fillna('', inplace=True)\n",
    "    df['concat'] = df.post_name + ' ' + df.post_message + ' ' + df.post_description"
   ]
  },
  {
   "cell_type": "code",
   "execution_count": 12,
   "metadata": {},
   "outputs": [],
   "source": [
    "def get_wordnet_pos(word):\n",
    "    \"\"\"Map POS tag to first character lemmatize() accepts\"\"\"\n",
    "    tag = nltk.pos_tag([word])[0][1][0].upper()\n",
    "    tag_dict = {\"J\": wordnet.ADJ,\n",
    "                \"N\": wordnet.NOUN,\n",
    "                \"V\": wordnet.VERB,\n",
    "                \"R\": wordnet.ADV}\n",
    "\n",
    "    return tag_dict.get(tag, wordnet.NOUN)\n",
    "\n",
    "def tokenize_with_lemmentize(document ,lemmentize = True):\n",
    "#Tokenizer and Lemmantizer for TfidfVectorizer\n",
    "#First remove url, then remove stopwords and non-alphabet, and lemmantize the lower cased tokens. \n",
    "\n",
    "    tokenized_post = []\n",
    "    lemmatizer = WordNetLemmatizer()\n",
    "    removed = stopwords.words('english') + list(string.punctuation)\n",
    "    document =  re.sub(r'http\\S+', '', str(document))\n",
    "    tokens = word_tokenize(document)\n",
    "    \n",
    "    words = [word.lower() for word in tokens if word.isalpha() and word not in removed]\n",
    "    if lemmentize:\n",
    "        words_lemmantized = [lemmatizer.lemmatize(w, get_wordnet_pos(w)) for w in words]\n",
    "        tokenized_post += words_lemmantized\n",
    "    else:\n",
    "        tokenized_post += words\n",
    "    return tokenized_post"
   ]
  },
  {
   "cell_type": "markdown",
   "metadata": {},
   "source": [
    "### Concat Posts Content"
   ]
  },
  {
   "cell_type": "code",
   "execution_count": 25,
   "metadata": {},
   "outputs": [],
   "source": [
    "col = 'concat'\n",
    "immigration = immigration.drop_duplicates(subset=['post_id'], keep=\"first\")\n",
    "concat_messages(immigration)\n",
    "target = immigration.dropna(subset=[col]).copy()\n",
    "target[col] = target[col].str.replace('\\r', '').str.lower()"
   ]
  },
  {
   "cell_type": "markdown",
   "metadata": {},
   "source": [
    "### Tokenization and Bag of Words"
   ]
  },
  {
   "cell_type": "code",
   "execution_count": 14,
   "metadata": {},
   "outputs": [],
   "source": [
    "df = pd.read_csv('/home3/r05322021/Desktop/FB_hatecrime/Data/label/immigration_label.csv', encoding='utf-8', engine='python')\n",
    "df = df[(df.Mexican_related.isin([0,1])) & (df.Muslim_related.isin([0,1])) & (df.immigration_related.isin([0,1]))]\n",
    "col = 'concat'\n",
    "concat_messages(df)\n",
    "target_train = df.dropna(subset=[col]).copy()\n",
    "target_train[col] = target_train[col].str.replace('\\r', '').str.lower()"
   ]
  },
  {
   "cell_type": "code",
   "execution_count": 26,
   "metadata": {},
   "outputs": [],
   "source": [
    "# bow = CountVectorizer(tokenizer=tokenize_with_lemmentize, \n",
    "#                       token_pattern=u'(?ui)\\\\b\\\\w*[a-z]+\\\\w*\\\\b', \n",
    "#                       min_df=5\n",
    "#                      )\n",
    "# bow = bow.fit(target_train[col])\n",
    "X = bow.transform(target[col])"
   ]
  },
  {
   "cell_type": "markdown",
   "metadata": {},
   "source": [
    "### TFIDF"
   ]
  },
  {
   "cell_type": "code",
   "execution_count": 27,
   "metadata": {},
   "outputs": [],
   "source": [
    "tfidf = load('/home3/r05322021/Desktop/model/transformation/TFIDF_immigration.joblib')\n",
    "tfidf_X = tfidf.transform(X)"
   ]
  },
  {
   "cell_type": "markdown",
   "metadata": {},
   "source": [
    "## Predict and Check"
   ]
  },
  {
   "cell_type": "code",
   "execution_count": 33,
   "metadata": {},
   "outputs": [],
   "source": [
    "def random_show(df, y_col, sample_size):\n",
    "    indexes = random.sample(range(len(df[df[y_col] == 1])), k=sample_size)\n",
    "    #for idx, p in random.sample(list(zip(indexes, pred)), k=min(len(indexes), 5)):\n",
    "    for idx in indexes:\n",
    "        row = target.iloc[idx]\n",
    "        print('\\n\\n', '\\n'.join([row.post_name, row.post_message, row.post_description]))"
   ]
  },
  {
   "cell_type": "code",
   "execution_count": 38,
   "metadata": {},
   "outputs": [],
   "source": [
    "from joblib import load\n",
    "y_col = 'Muslim_related'\n",
    "svm_m = load(f'/home3/r05322021/Desktop/model/SVM/{y_col[:-8]}_svm.joblib')\n",
    "immigration[y_col] = svm_m.predict(tfidf_X)"
   ]
  },
  {
   "cell_type": "code",
   "execution_count": 40,
   "metadata": {},
   "outputs": [
    {
     "name": "stdout",
     "output_type": "stream",
     "text": [
      "\n",
      "\n",
      " Republican Town Plans to Stop Muslim Burials By Beheading Pig, Pouring Blood on Ground\n",
      "The town is located in a heavily red county in Texas -- knowing that, do any of these comments even come close to surprising you?\n",
      "Texas resident threatens to stop Islamic cemetery, which would allow local Muslims to bury their dead in-town, by dousing the land with pigs' blood.\n",
      "\n",
      "\n",
      " Chipotle closes 43 restaurants amid E. coli outbreak\n",
      "Chipotle Mexican Grill has closed 43 of the chain's restaurants amid an E. coli outbreak.\n",
      "\"We immediately closed all of our restaurants in the area out of an abundance of caution, even though the vast majority of these restaurants have no reported problems.\"\n",
      "\n",
      "\n",
      " Hillary Clinton on Twitter\n",
      "Sorry Scotland. But to the folks flying the Mexican flag near Trump’s property:  VIVA SCOTLAND!\n",
      "“People in Scotland are not thrilled about Trump coming to their country. We know the feeling.”\n",
      "\n",
      "\n",
      " This Islamic Country Just Took A HUGE Leap Forward On LGBT Rights (VIDEO)\n",
      "That moment when Muslim clerics are more progressive then U.S. lawmakers.\n",
      "One of the most conservative and religious countries has taken a huge step for the LGBT community rights. A surprising twist for an Islamic country.\n",
      "\n",
      "\n",
      " Tense Christian-Muslim relations provide backdrop to Pope's Africa trip\n",
      "Pope Francis' first Africa trip will highlight the problems of building dialogue between Christianity and Islam as both religions grow fast on the continent, threatening to widen an already volatile fault line there between them. Read more: http://reut.rs/1OnEFZZ\n",
      " \n",
      "\n",
      "\n",
      " Hillary Wears Hijab in New Campaign Ad\n",
      "\n",
      "Facebook Twitter Pinterest Google+ LinkedIn Reddit StumbleUpon Digg Email Why do liberals think so highly of Muslims? Check it out: Hillary’s latest campaign video tries ...\n",
      "\n",
      "\n",
      " Donald Trump Honors the Families of those Killed by Illegal Immigrants in California - Eagle Rising\n",
      "Donald Trump Honors the Families of those Killed by Illegal Immigrants in California\n",
      "Donald Trump Honors the Families of those Killed by Illegal Immigrants in California\n",
      "\n",
      "\n",
      " Muslim Inmates Ask for Special \"Muslim\" Food for Ramadan. Here's How the Jail Responded\n",
      "These Muslim inmates demanded special \"Muslim\" food for Ramadan... here's how the jail responded to their request.\n",
      "\n",
      "What do you think about the jail's decision?\n",
      "This is ridiculous ...\n",
      "\n",
      "\n",
      " Networks Cover Muslim Olympian 100-Times MORE Than...\n",
      "Liberals continue push their narrative....\n",
      "Disheartening...\n",
      "\n",
      "\n",
      " Trump Says U.S. Is Only Country ‘Stupid Enough’ To Guarantee Birthright Citizenship. Here’s 32...\n",
      "But the United States is not alone in conferring automatic citizenship: it is among about 33 countries that provides jus soli, or right of the soil, the Latin term for granting automatic citizenship to anyone born in a territory or country, including children of undocumented immigrants.\n",
      "\"We're the only place just about that's stupid enough to do it,\" Trump said.\n",
      "\n",
      "\n",
      " Trump: New Immigrants Must Assimilate to Our Way of Life\n",
      "There is objectively nothing wrong with this. You migrate to a nation, you do as they do. Anything else will cause cultural struggles and tensions. It baffles me why this is even debated, but I suppose when liberals despise this nation as much as your typical jihadi then it starts to make sense how one would advocate such internal hostility between differing cultures.\n",
      "Donald Trump said that new immigrants would be expected to assimilate to American culture -- not the other way around.\n",
      "\n",
      "\n",
      " Crooks and Liars Daily Update For 05/26/2015\n",
      "Crooks and Liars Daily Update For 05/26/2015\n",
      "Where Fox wants us to believe that having a few Spanish speaking candidates will make up for thousands of hours of their party demonizing immigrants. Read more...\n",
      "\n",
      "\n",
      " Trump: US should consider profiling Muslims\n",
      "Trump: US should consider profiling Muslims http://bhne.ws/av8uOVP\n",
      "WASHINGTON — Donald Trump is suggesting the United States should \"seriously\" consider profiling Muslims inside the country as a terrorism-fighting tool, the latest example of the Republican presidential nominee-in-waiting increasingly backing positions that could single out a group based on its reli...\n",
      "\n",
      "\n",
      " México diseña plan para restringir circulación de autos y reducir polución\n",
      "“Esta contaminación se da por un incremento del parque vehicular de toda la megalópolis”, estimado en más de seis millones, dijo el ministro de Medio Ambiente mexicano.\n",
      "Las autoridades mexicanas trabajan en el diseño de un programa para restringir la circulación de vehículos “a nivel nacional” y frenar así los altos niveles de contaminación, dijo este miércoles el ministro de Medio Ambiente, Rafael Pacchiano.\n",
      "\n",
      "\n",
      " Cockroaches released into Byron burger restaurants by protesters after immigration sting - Breaking911\n",
      "Cockroaches released into Byron burger restaurants by protesters after immigration sting\n",
      "Most diners would expect to have their meal comped if they notice a single insect in a restaurant. So…\n",
      "\n",
      "\n",
      " Topless Women Storm Stage at Muslim Conference to Protest Treatment of Women — See How the Men...\n",
      "I'm seeing quite a few clueless right wingers applauding these feminist protesters. Obviously, I'm not a fan of the radical fundamentalist Muslims at this conference, but these ladies ain't heroes either. \n",
      "\n",
      "This is the same group of women who regularly strip off their clothes and engage in sacrilegious demonstrations during Christian events. The same group that storms churchs with phrases like \"Jesus is Aborted\" and \"I am God\" painted on their chests. The same women who pretended to sodomize themselves with crucifixes in St. Peter's Square a little while ago. \n",
      "\n",
      "Even in this case, they were chanting \"I am my own Prophet.\" Now, I certainly don't think Muhammed is the prophet, but is it demonstrably better to take the title from Muhammed only to give it to yourself? I'd say not. Without question, I'd take a religious but non-violent Muslim over a liberal feminist. One worships the wrong god, the other worships herself. Keep in mind, liberal feminism has killed 50 million children in this country in just 40 years. ISIS couldn't kill that many if you gave them 200 years to accomplish the task.\n",
      "\n",
      "What's the lesson here? Well, just that there's nobody to root for when militant Muslims and half naked radical feminists clash. \n",
      "\n",
      "\n",
      "http://www.theblaze.com/stories/2015/09/14/topless-women-storm-stage-at-muslim-conference-to-protest-treatment-of-women-see-how-the-men-at-event-react/\n",
      "Two topless women were arrested in France over the weekend after they jumped on stage at a conference as preachers discussed the role of Muslim women. The Femen protesters, 25- and 31-years-old, ribbed off their Arab-styled cloaks, grabbed the microphones from the stage and shouted feminist slogans…\n",
      "\n",
      "\n",
      " Anti-Refugee Rhetoric in Europe Reaches Dangerous New Levels | Care2 Causes\n",
      "The US isn't alone in it's anti-immigrant rhetoric and actions. In the Netherlands, politician Geert Wilders passed out fake pepper spray to women, saying they needed to guard themselves against, “Islamic testosterone bombs.” In France, a popular YouTube clip shows a video of a trucker trying to run over refugees attempting to cross the border. The Danish government just passed a law to seize property from refugees. [posted by robin]\n",
      "A shocking amount of people advocating for violence has many worried.\n",
      "\n",
      "\n",
      " Samuel L. Jackson Claims This One Thing About Muslims That Has People In An Uproar » Daily headlines\n",
      "Samuel L Jackson has claimed that Muslims are the new blacks of America because.....\n",
      " \n",
      "\n",
      "\n",
      " Nazi salutes disrupt Brussels memorial\n",
      "Protesters raising their arms in Nazi salutes and shouting anti-immigrant slogans confronted people in Brussels mourning for victims of last week’s terror attacks. \n",
      "\n",
      "http://wesh.tv/6188B9ewu\n",
      "Though organizers postponed a Sunday march in the Belgian capital out of security fears, those who gathered at Brussels' Place de la Bourse were confronted by protesters raising their arms in Nazi salutes and shouting anti-immigrant slogans.\n",
      "\n",
      "\n",
      " Centro Islamico is the Only Spanish-Speaking Mosque in the U.S.\n",
      "\"We got together and decided we had to have a place for Hispanic people to get together and learn about Islam.”\r\n",
      "\r\n",
      "via Latina Magazine\n",
      "There are tens of thousands of Latino Muslims in the U.S., and as of this year, there is one Spanish-speaking mosque: Centro Islámico in Houston, Texas.\r\n",
      "MORE: 8 Things to Know About Latinos and Islam\r\n",
      "While one place of worship seems too few for the fastest-growing population of Islamic converts, f...\n"
     ]
    }
   ],
   "source": [
    "random_show(immigration, y_col, 20)"
   ]
  },
  {
   "cell_type": "markdown",
   "metadata": {},
   "source": [
    "## Save Prediction"
   ]
  },
  {
   "cell_type": "code",
   "execution_count": 42,
   "metadata": {},
   "outputs": [],
   "source": [
    "immigration.to_csv(r'/home3/r05322021/Desktop/FB Data/issue_post/Simple/immigration_predicted.csv', index=False)"
   ]
  },
  {
   "cell_type": "code",
   "execution_count": null,
   "metadata": {},
   "outputs": [],
   "source": []
  }
 ],
 "metadata": {
  "kernelspec": {
   "display_name": "FB",
   "language": "python",
   "name": "fb"
  },
  "language_info": {
   "codemirror_mode": {
    "name": "ipython",
    "version": 3
   },
   "file_extension": ".py",
   "mimetype": "text/x-python",
   "name": "python",
   "nbconvert_exporter": "python",
   "pygments_lexer": "ipython3",
   "version": "3.6.10"
  }
 },
 "nbformat": 4,
 "nbformat_minor": 2
}
