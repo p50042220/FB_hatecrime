{
 "cells": [
  {
   "cell_type": "code",
   "execution_count": 1,
   "metadata": {},
   "outputs": [],
   "source": [
    "import pandas_gbq as gbq\n",
    "import pandas as pd\n",
    "import numpy as np\n",
    "import pydata_google_auth"
   ]
  },
  {
   "cell_type": "code",
   "execution_count": 2,
   "metadata": {},
   "outputs": [],
   "source": [
    "def bigquery_auth():\n",
    "    SCOPES = [\n",
    "    'https://www.googleapis.com/auth/cloud-platform',\n",
    "    'https://www.googleapis.com/auth/drive',]\n",
    "    \n",
    "    credentials = pydata_google_auth.get_user_credentials(\n",
    "    SCOPES,\n",
    "    # Set auth_local_webserver to True to have a slightly more convienient\n",
    "    # authorization flow. Note, this doesn't work if you're running from a\n",
    "    # notebook on a remote sever, such as over SSH or with Google Colab.\n",
    "    auth_local_webserver=True,)\n",
    "    \n",
    "bigquery_auth()"
   ]
  },
  {
   "cell_type": "code",
   "execution_count": 3,
   "metadata": {},
   "outputs": [],
   "source": [
    "immigration_query = '''\n",
    "SELECT\n",
    "  *\n",
    "FROM\n",
    "  `1000_page_post.201501_to_201611_all`\n",
    "WHERE\n",
    "    TIMESTAMP(post_created_date_CT) >= TIMESTAMP('2015-05-01') AND\n",
    "  (LOWER(post_name) LIKE \"%immigration%\" OR\n",
    "  LOWER(post_message) LIKE \"%immigration%\" OR\n",
    "  LOWER(post_caption) LIKE \"%immigration%\" OR\n",
    "  LOWER(post_description) LIKE \"%immigration%\" OR\n",
    "  LOWER(post_name) LIKE \"%mexican%\" OR\n",
    "  LOWER(post_message) LIKE \"%mexican%\" OR\n",
    "  LOWER(post_caption) LIKE \"%mexican%\" OR\n",
    "  LOWER(post_description) LIKE \"%mexican%\" OR\n",
    "  LOWER(post_name) LIKE \"%muslim%\" OR\n",
    "  LOWER(post_message) LIKE \"%muslim%\" OR\n",
    "  LOWER(post_caption) LIKE \"%muslim%\" OR\n",
    "  LOWER(post_description) LIKE \"%muslim%\" OR\n",
    "  LOWER(post_name) LIKE \"%immigrant%\" OR\n",
    "  LOWER(post_message) LIKE \"%immigrant%\" OR\n",
    "  LOWER(post_caption) LIKE \"%immigrant%\" OR\n",
    "  LOWER(post_description) LIKE \"%immigrant%\")\n",
    "'''"
   ]
  },
  {
   "cell_type": "code",
   "execution_count": 4,
   "metadata": {},
   "outputs": [
    {
     "name": "stderr",
     "output_type": "stream",
     "text": [
      "Downloading: 100%|██████████| 660095/660095 [05:36<00:00, 1961.93rows/s]\n"
     ]
    }
   ],
   "source": [
    "immigration = gbq.read_gbq(immigration_query, project_id='ntufbdata')"
   ]
  },
  {
   "cell_type": "code",
   "execution_count": 7,
   "metadata": {},
   "outputs": [],
   "source": [
    "import tensorflow as tf\n",
    "import tensorflow_hub as hub\n",
    "import bert\n",
    "from tensorflow.keras.models import  Model, load_model\n",
    "from tqdm import tqdm\n",
    "import numpy as np\n",
    "from collections import namedtuple\n",
    "import pandas as pd\n",
    "import re\n",
    "import random"
   ]
  },
  {
   "cell_type": "code",
   "execution_count": 8,
   "metadata": {},
   "outputs": [],
   "source": [
    "bert_layer=hub.KerasLayer(\"https://tfhub.dev/tensorflow/bert_en_uncased_L-12_H-768_A-12/1\",trainable=True)"
   ]
  },
  {
   "cell_type": "code",
   "execution_count": 9,
   "metadata": {},
   "outputs": [],
   "source": [
    "def clean(row, col):\n",
    "    \n",
    "    text = row[col]\n",
    "    text = re.sub(r'http\\S+', '', str(text))\n",
    "    text = re.sub(r'\\@\\w+', '', str(text))\n",
    "    text = re.sub(r'#\\w+', '', str(text))\n",
    "    text = re.sub(r'\\[\\w+\\]', '', str(text))\n",
    "    text = re.sub(r'\\n', '', str(text))\n",
    "    text = re.sub(r'\\r', '', str(text))\n",
    "    \n",
    "    return text\n",
    "\n",
    "def text_clean(df):\n",
    "    df = df.fillna('')\n",
    "\n",
    "    for column in ['post_name', 'post_message', 'post_description']:\n",
    "        df[column] = df.apply(clean, col=column, axis=1)\n",
    "    \n",
    "    return df\n",
    "\n",
    "def get_masks(tokens, max_seq_length):\n",
    "    \"\"\"Mask for padding\"\"\"\n",
    "    if len(tokens)>max_seq_length:\n",
    "        #Cutting down the excess length\n",
    "        tokens = tokens[0:max_seq_length]\n",
    "        return [1]*len(tokens)\n",
    "    else :\n",
    "      return [1]*len(tokens) + [0] * (max_seq_length - len(tokens))\n",
    "\n",
    "def get_segments(tokens, max_seq_length):\n",
    "    if len(tokens)>max_seq_length:\n",
    "      #Cutting down the excess length\n",
    "      tokens = tokens[:max_seq_length]\n",
    "      segments = []\n",
    "      current_segment_id = 0\n",
    "      for token in tokens:\n",
    "        segments.append(current_segment_id)\n",
    "        if token == \"[SEP]\":\n",
    "          current_segment_id = 1\n",
    "      return segments\n",
    "    else:\n",
    "      segments = []\n",
    "      current_segment_id = 0\n",
    "      for token in tokens:\n",
    "        segments.append(current_segment_id)\n",
    "        if token == \"[SEP]\":\n",
    "          current_segment_id = 1\n",
    "      return segments + [0] * (max_seq_length - len(tokens))\n",
    "\n",
    "def get_ids(tokens, tokenizer, max_seq_length):    \n",
    "    if len(tokens) > max_seq_length:\n",
    "      tokens = tokens[:max_seq_length]\n",
    "      token_ids = tokenizer.convert_tokens_to_ids(tokens)\n",
    "      return token_ids\n",
    "    else:\n",
    "      token_ids = tokenizer.convert_tokens_to_ids(tokens)\n",
    "      input_ids = token_ids + [0] * (max_seq_length-len(token_ids))\n",
    "      return input_ids\n",
    "\n",
    "def preprocess_text(s, tokenizer, max_length):\n",
    "    stokens = tokenizer.tokenize(s)\n",
    "    stokens = [\"[CLS]\"] + stokens + [\"[SEP]\"]\n",
    "    input_ids = get_ids(stokens, tokenizer, max_length)\n",
    "    input_masks = get_masks(stokens, max_length)\n",
    "    input_segments = get_segments(stokens, max_length)\n",
    "    return input_ids, input_masks, input_segments\n",
    "\n",
    "def preprocess_whole(df, tokenizer, max_length):\n",
    "    \n",
    "    df = text_clean(df)\n",
    "    input_id, input_mask, input_segment = [], [], []\n",
    "    \n",
    "    for _, index in enumerate(tqdm(df.index.tolist(), total=len(df)), 1):\n",
    "        text = df['post_name'].loc[index] + ' ' + df['post_message'].loc[index] + ' ' + df['post_description'].loc[index]\n",
    "        ids, masks, segments = preprocess_text(text, tokenizer, max_length)\n",
    "        \n",
    "        input_id.append(ids)\n",
    "        input_mask.append(masks)\n",
    "        input_segment.append(segments)\n",
    "        \n",
    "    return [np.array(input_id, dtype=np.int32), \n",
    "            np.array(input_mask, dtype=np.int32), \n",
    "            np.array(input_segment, dtype=np.int32)]\n",
    "\n",
    "def training_form(df, max_length):\n",
    "    vocab_file = bert_layer.resolved_object.vocab_file.asset_path.numpy()\n",
    "    do_lower_case = bert_layer.resolved_object.do_lower_case.numpy()\n",
    "    tokenizer = bert.bert_tokenization.FullTokenizer(vocab_file,do_lower_case)\n",
    "    \n",
    "    document = preprocess_whole(df, tokenizer, max_length)\n",
    "        \n",
    "    return document"
   ]
  },
  {
   "cell_type": "code",
   "execution_count": null,
   "metadata": {
    "scrolled": true
   },
   "outputs": [
    {
     "name": "stderr",
     "output_type": "stream",
     "text": [
      " 86%|████████▌ | 566338/660095 [16:56<02:20, 667.63it/s]  "
     ]
    }
   ],
   "source": [
    "MAX_SEQ_LEN = 500\n",
    "document = training_form(immigration, MAX_SEQ_LEN)"
   ]
  },
  {
   "cell_type": "code",
   "execution_count": 9,
   "metadata": {},
   "outputs": [],
   "source": [
    "model = load_model(r'/home3/r05322021/Desktop/model/immigration.h5', custom_objects={'KerasLayer':hub.KerasLayer})"
   ]
  },
  {
   "cell_type": "code",
   "execution_count": 2,
   "metadata": {},
   "outputs": [],
   "source": [
    "def predict(original_df, threshold, model):\n",
    "    \n",
    "    prediction = model.predict(original_df, batch_size=12800, verbose=1)\n",
    "    pred = [1 if d[1] >= threshold else 0 for d in prediction]\n",
    "    \n",
    "    return pred"
   ]
  },
  {
   "cell_type": "code",
   "execution_count": 1,
   "metadata": {},
   "outputs": [
    {
     "ename": "NameError",
     "evalue": "name 'pd' is not defined",
     "output_type": "error",
     "traceback": [
      "\u001b[0;31m---------------------------------------------------------------------------\u001b[0m",
      "\u001b[0;31mNameError\u001b[0m                                 Traceback (most recent call last)",
      "\u001b[0;32m<ipython-input-1-4321893b50ff>\u001b[0m in \u001b[0;36m<module>\u001b[0;34m\u001b[0m\n\u001b[0;32m----> 1\u001b[0;31m \u001b[0mimmigration\u001b[0m\u001b[0;34m[\u001b[0m\u001b[0;34m'immigration_related'\u001b[0m\u001b[0;34m]\u001b[0m \u001b[0;34m=\u001b[0m \u001b[0mpd\u001b[0m\u001b[0;34m.\u001b[0m\u001b[0mSeries\u001b[0m\u001b[0;34m(\u001b[0m\u001b[0mpredict\u001b[0m\u001b[0;34m(\u001b[0m\u001b[0mdocument\u001b[0m\u001b[0;34m,\u001b[0m \u001b[0;36m0.5\u001b[0m\u001b[0;34m,\u001b[0m \u001b[0mmodel\u001b[0m\u001b[0;34m)\u001b[0m\u001b[0;34m)\u001b[0m\u001b[0;34m\u001b[0m\u001b[0;34m\u001b[0m\u001b[0m\n\u001b[0m",
      "\u001b[0;31mNameError\u001b[0m: name 'pd' is not defined"
     ]
    }
   ],
   "source": [
    "immigration['immigration_related'] = pd.Series(predict(document, 0.5, model))"
   ]
  },
  {
   "cell_type": "code",
   "execution_count": 39,
   "metadata": {},
   "outputs": [],
   "source": [
    "immigration.to_csv(r'/home3/r05322021/Desktop/FB Data/issue_post/immigration_predicted.csv', index=False)"
   ]
  },
  {
   "cell_type": "code",
   "execution_count": null,
   "metadata": {},
   "outputs": [],
   "source": []
  }
 ],
 "metadata": {
  "kernelspec": {
   "display_name": "FB",
   "language": "python",
   "name": "fb"
  },
  "language_info": {
   "codemirror_mode": {
    "name": "ipython",
    "version": 3
   },
   "file_extension": ".py",
   "mimetype": "text/x-python",
   "name": "python",
   "nbconvert_exporter": "python",
   "pygments_lexer": "ipython3",
   "version": "3.6.10"
  }
 },
 "nbformat": 4,
 "nbformat_minor": 2
}
