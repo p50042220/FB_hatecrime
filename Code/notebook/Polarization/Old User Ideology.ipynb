{
 "cells": [
  {
   "cell_type": "code",
   "execution_count": 6,
   "metadata": {},
   "outputs": [],
   "source": [
    "import pandas as pd\n",
    "import numpy as np\n",
    "import pandas_gbq as gbq\n",
    "import pydata_google_auth\n",
    "import seaborn as sns\n",
    "import matplotlib.pylab as plt\n",
    "import datetime\n",
    "import sys\n",
    "sys.path.append('/home3/r05322021/Desktop/FB_hatecrime/Code/python/')\n",
    "import fbscore"
   ]
  },
  {
   "cell_type": "code",
   "execution_count": 7,
   "metadata": {},
   "outputs": [],
   "source": [
    "def bigquery_auth():\n",
    "    SCOPES = [\n",
    "    'https://www.googleapis.com/auth/cloud-platform',\n",
    "    'https://www.googleapis.com/auth/drive',]\n",
    "    \n",
    "    credentials = pydata_google_auth.get_user_credentials(\n",
    "    SCOPES,\n",
    "    # Set auth_local_webserver to True to have a slightly more convienient\n",
    "    # authorization flow. Note, this doesn't work if you're running from a\n",
    "    # notebook on a remote sever, such as over SSH or with Google Colab.\n",
    "    auth_local_webserver=True,)\n",
    "\n",
    "bigquery_auth()"
   ]
  },
  {
   "cell_type": "code",
   "execution_count": 8,
   "metadata": {},
   "outputs": [],
   "source": [
    "query = '''\n",
    "WITH OLD_USER AS(\n",
    "SELECT user_id\n",
    "FROM `ntufbdata.user_type.user_entering_type`\n",
    "WHERE TYPE = 'WHOLE'\n",
    "), REACTION AS(\n",
    "(SELECT user_id,\n",
    "        SPLIT(post_id, '_')[ORDINAL(1)] AS page_id,\n",
    "        post_id\n",
    "FROM `ntufbdata.USdata.1000_page_us_user_like_post_201501_to_201611_all`\n",
    "WHERE TIMESTAMP(post_created_date_CT) >= TIMESTAMP('2015-05-03')\n",
    "AND TIMESTAMP(post_created_date_CT) < TIMESTAMP('2015-05-31'))\n",
    "UNION DISTINCT\n",
    "(SELECT user_id,\n",
    "        SPLIT(post_id, '_')[ORDINAL(1)] AS page_id,\n",
    "        post_id\n",
    "FROM `ntufbdata.USdata.politician_us_user_post_like_all`\n",
    "WHERE TIMESTAMP(post_created_date_CT) >= TIMESTAMP('2015-05-03')\n",
    "AND TIMESTAMP(post_created_date_CT) < TIMESTAMP('2015-05-31'))\n",
    ")\n",
    "\n",
    "SELECT user_id,\n",
    "        STRING_AGG(page_id, ',') AS like_pages,\n",
    "        STRING_AGG(CAST(like_time AS STRING), ',') AS like_times\n",
    "FROM(\n",
    "SELECT OLD_USER.user_id,\n",
    "        REACTION.page_id,\n",
    "        COUNT(*) AS like_time\n",
    "FROM OLD_USER\n",
    "INNER JOIN REACTION ON OLD_USER.user_id = REACTION.user_id\n",
    "GROUP BY OLD_USER.user_id, REACTION.page_id)\n",
    "GROUP BY user_id\n",
    "'''"
   ]
  },
  {
   "cell_type": "code",
   "execution_count": null,
   "metadata": {},
   "outputs": [],
   "source": [
    "user_type = gbq.read_gbq(type_query, project_id='ntufbdata')"
   ]
  }
 ],
 "metadata": {
  "kernelspec": {
   "display_name": "FB",
   "language": "python",
   "name": "fb"
  },
  "language_info": {
   "codemirror_mode": {
    "name": "ipython",
    "version": 3
   },
   "file_extension": ".py",
   "mimetype": "text/x-python",
   "name": "python",
   "nbconvert_exporter": "python",
   "pygments_lexer": "ipython3",
   "version": "3.6.10"
  }
 },
 "nbformat": 4,
 "nbformat_minor": 2
}
