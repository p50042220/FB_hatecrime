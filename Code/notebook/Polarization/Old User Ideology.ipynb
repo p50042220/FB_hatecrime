{
 "cells": [
  {
   "cell_type": "code",
   "execution_count": 6,
   "metadata": {},
   "outputs": [],
   "source": [
    "import pandas as pd\n",
    "import numpy as np\n",
    "import pandas_gbq as gbq\n",
    "import pydata_google_auth\n",
    "import seaborn as sns\n",
    "import matplotlib.pylab as plt\n",
    "import datetime\n",
    "import sys\n",
    "sys.path.append('/home3/r05322021/Desktop/FB_hatecrime/Code/python/')\n",
    "import fbscore"
   ]
  },
  {
   "cell_type": "code",
   "execution_count": 7,
   "metadata": {},
   "outputs": [],
   "source": [
    "def bigquery_auth():\n",
    "    SCOPES = [\n",
    "    'https://www.googleapis.com/auth/cloud-platform',\n",
    "    'https://www.googleapis.com/auth/drive',]\n",
    "    \n",
    "    credentials = pydata_google_auth.get_user_credentials(\n",
    "    SCOPES,\n",
    "    # Set auth_local_webserver to True to have a slightly more convienient\n",
    "    # authorization flow. Note, this doesn't work if you're running from a\n",
    "    # notebook on a remote sever, such as over SSH or with Google Colab.\n",
    "    auth_local_webserver=True,)\n",
    "\n",
    "bigquery_auth()"
   ]
  },
  {
   "cell_type": "code",
   "execution_count": 8,
   "metadata": {},
   "outputs": [],
   "source": [
    "query = '''\n",
    "WITH OLD_USER AS(\n",
    "SELECT user_id\n",
    "FROM `ntufbdata.user_type.user_entering_type`\n",
    "WHERE TYPE = 'WHOLE'\n",
    "), REACTION AS(\n",
    "(SELECT user_id,\n",
    "        SPLIT(post_id, '_')[ORDINAL(1)] AS page_id,\n",
    "        post_id\n",
    "FROM `ntufbdata.USdata.1000_page_us_user_like_post_201501_to_201611_all`\n",
    "WHERE TIMESTAMP(post_created_date_CT) >= TIMESTAMP('2015-05-03')\n",
    "AND TIMESTAMP(post_created_date_CT) < TIMESTAMP('2015-05-31'))\n",
    "UNION DISTINCT\n",
    "(SELECT user_id,\n",
    "        SPLIT(post_id, '_')[ORDINAL(1)] AS page_id,\n",
    "        post_id\n",
    "FROM `ntufbdata.USdata.politician_us_user_post_like_all`\n",
    "WHERE TIMESTAMP(post_created_date_CT) >= TIMESTAMP('2015-05-03')\n",
    "AND TIMESTAMP(post_created_date_CT) < TIMESTAMP('2015-05-31'))\n",
    ")\n",
    "\n",
    "SELECT user_id,\n",
    "        STRING_AGG(page_id, ',') AS like_pages,\n",
    "        STRING_AGG(CAST(like_time AS STRING), ',') AS like_times\n",
    "FROM(\n",
    "SELECT OLD_USER.user_id,\n",
    "        REACTION.page_id,\n",
    "        COUNT(*) AS like_time\n",
    "FROM OLD_USER\n",
    "INNER JOIN REACTION ON OLD_USER.user_id = REACTION.user_id\n",
    "GROUP BY OLD_USER.user_id, REACTION.page_id)\n",
    "GROUP BY user_id\n",
    "'''"
   ]
  },
  {
   "cell_type": "code",
   "execution_count": 9,
   "metadata": {},
   "outputs": [
    {
     "name": "stderr",
     "output_type": "stream",
     "text": [
      "Downloading: 100%|██████████| 8263859/8263859 [09:56<00:00, 13851.68rows/s]\n"
     ]
    }
   ],
   "source": [
    "user_like_pages = gbq.read_gbq(query, project_id='ntufbdata')"
   ]
  },
  {
   "cell_type": "code",
   "execution_count": 11,
   "metadata": {},
   "outputs": [
    {
     "data": {
      "text/html": [
       "<div>\n",
       "<style scoped>\n",
       "    .dataframe tbody tr th:only-of-type {\n",
       "        vertical-align: middle;\n",
       "    }\n",
       "\n",
       "    .dataframe tbody tr th {\n",
       "        vertical-align: top;\n",
       "    }\n",
       "\n",
       "    .dataframe thead th {\n",
       "        text-align: right;\n",
       "    }\n",
       "</style>\n",
       "<table border=\"1\" class=\"dataframe\">\n",
       "  <thead>\n",
       "    <tr style=\"text-align: right;\">\n",
       "      <th></th>\n",
       "      <th>user_id</th>\n",
       "      <th>like_pages</th>\n",
       "      <th>like_times</th>\n",
       "    </tr>\n",
       "  </thead>\n",
       "  <tbody>\n",
       "    <tr>\n",
       "      <th>0</th>\n",
       "      <td>831920153488030</td>\n",
       "      <td>208421665712,10505090694,89033370735,108571612...</td>\n",
       "      <td>6,1,6,1,1,1,1,2,4,1,1,21,1</td>\n",
       "    </tr>\n",
       "    <tr>\n",
       "      <th>1</th>\n",
       "      <td>897450446943730</td>\n",
       "      <td>354522044588660,174742062548592,12755955064837...</td>\n",
       "      <td>1,2,2,1,7,1,1,1,1,1,1,2,3,2,1,5,2,5,1,1,1,1,1</td>\n",
       "    </tr>\n",
       "    <tr>\n",
       "      <th>2</th>\n",
       "      <td>927754540576641</td>\n",
       "      <td>10606591490,353026650079,7040724713,8668072881...</td>\n",
       "      <td>2,11,1,9,1,2,1,1,7,2,2,1,1,1,3,1,28,1,21,1,1,6...</td>\n",
       "    </tr>\n",
       "    <tr>\n",
       "      <th>3</th>\n",
       "      <td>793122347433771</td>\n",
       "      <td>12795435237,124016042296,104301781300,83032188...</td>\n",
       "      <td>2,4,1,2,2,7,1,1,2,1,1,2,1,1,1,3,2,3,9,1,1,2,18...</td>\n",
       "    </tr>\n",
       "    <tr>\n",
       "      <th>4</th>\n",
       "      <td>580149065416331</td>\n",
       "      <td>21785951839,86680728811,5550296508,39795225543...</td>\n",
       "      <td>1,1,1,1,1,59,1,1,2,1,1,3,2,3</td>\n",
       "    </tr>\n",
       "  </tbody>\n",
       "</table>\n",
       "</div>"
      ],
      "text/plain": [
       "           user_id                                         like_pages  \\\n",
       "0  831920153488030  208421665712,10505090694,89033370735,108571612...   \n",
       "1  897450446943730  354522044588660,174742062548592,12755955064837...   \n",
       "2  927754540576641  10606591490,353026650079,7040724713,8668072881...   \n",
       "3  793122347433771  12795435237,124016042296,104301781300,83032188...   \n",
       "4  580149065416331  21785951839,86680728811,5550296508,39795225543...   \n",
       "\n",
       "                                          like_times  \n",
       "0                         6,1,6,1,1,1,1,2,4,1,1,21,1  \n",
       "1      1,2,2,1,7,1,1,1,1,1,1,2,3,2,1,5,2,5,1,1,1,1,1  \n",
       "2  2,11,1,9,1,2,1,1,7,2,2,1,1,1,3,1,28,1,21,1,1,6...  \n",
       "3  2,4,1,2,2,7,1,1,2,1,1,2,1,1,1,3,2,3,9,1,1,2,18...  \n",
       "4                       1,1,1,1,1,59,1,1,2,1,1,3,2,3  "
      ]
     },
     "execution_count": 11,
     "metadata": {},
     "output_type": "execute_result"
    }
   ],
   "source": []
  },
  {
   "cell_type": "code",
   "execution_count": null,
   "metadata": {},
   "outputs": [],
   "source": []
  }
 ],
 "metadata": {
  "kernelspec": {
   "display_name": "FB",
   "language": "python",
   "name": "fb"
  },
  "language_info": {
   "codemirror_mode": {
    "name": "ipython",
    "version": 3
   },
   "file_extension": ".py",
   "mimetype": "text/x-python",
   "name": "python",
   "nbconvert_exporter": "python",
   "pygments_lexer": "ipython3",
   "version": "3.6.10"
  }
 },
 "nbformat": 4,
 "nbformat_minor": 2
}
