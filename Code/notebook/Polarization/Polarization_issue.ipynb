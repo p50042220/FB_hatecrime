{
 "cells": [
  {
   "cell_type": "code",
   "execution_count": 1,
   "metadata": {},
   "outputs": [],
   "source": [
    "import pandas as pd\n",
    "import numpy as np\n",
    "import seaborn as sns\n",
    "import matplotlib.pylab as plt\n",
    "import os\n",
    "from tqdm import tqdm as tqdm\n",
    "import datetime"
   ]
  },
  {
   "cell_type": "code",
   "execution_count": 2,
   "metadata": {},
   "outputs": [],
   "source": [
    "page_path_whole = '/home3/r05322021/Desktop/FB Data/Polarization/page_score/whole/'\n",
    "page_score_file_whole = os.listdir(page_path_whole)\n",
    "page_path_all = '/home3/r05322021/Desktop/FB Data/original_ideology/page_score/2015-05-03_to_2016-11-26_4weeks/'\n",
    "page_score_file_all = os.listdir(page_path_all)\n",
    "page_path_new = '/home3/r05322021/Desktop/FB Data/Polarization/page_score/new/all/'\n",
    "page_score_file_new = os.listdir(page_path_new)\n",
    "page_path_quit = '/home3/r05322021/Desktop/FB Data/Polarization/page_score/quit/all/'\n",
    "page_score_file_quit = os.listdir(page_path_quit)"
   ]
  },
  {
   "cell_type": "code",
   "execution_count": 3,
   "metadata": {},
   "outputs": [],
   "source": [
    "df_whole_list, df_all_list, df_new_list, df_quit_list = [], [], [], []\n",
    "for f in page_score_file_whole:\n",
    "    df = pd.read_csv(f'{page_path_whole}{f}', converters={'page_id': str}, engine='python')\n",
    "    df['Week'] = f[-14:-4]\n",
    "    df_whole_list.append(df)\n",
    "for f in page_score_file_all:\n",
    "    df = pd.read_csv(f'{page_path_all}{f}', converters={'page_id': str}, engine='python')\n",
    "    df['Week'] = f[-14:-4]\n",
    "    df_all_list.append(df)\n",
    "for f in page_score_file_new:\n",
    "    df = pd.read_csv(f'{page_path_new}{f}', converters={'page_id': str}, engine='python')\n",
    "    df['Week'] = f[-14:-4]\n",
    "    df_new_list.append(df)\n",
    "for f in page_score_file_quit:\n",
    "    df = pd.read_csv(f'{page_path_quit}{f}', converters={'page_id': str}, engine='python')\n",
    "    df['Week'] = f[-14:-4]\n",
    "    df_quit_list.append(df)\n",
    "df_whole = pd.concat(df_whole_list, axis=0)\n",
    "df_all = pd.concat(df_all_list, axis=0)\n",
    "df_new = pd.concat(df_new_list, axis=0)\n",
    "df_quit = pd.concat(df_quit_list, axis=0)"
   ]
  },
  {
   "cell_type": "code",
   "execution_count": 4,
   "metadata": {},
   "outputs": [],
   "source": [
    "std_whole = pd.DataFrame([[d['Week'].iloc[0], d['PC1_std'].std()] for d in [group[1] for group in df_whole.groupby('Week')]], columns=['Week', 'std_whole'])\n",
    "std_all = pd.DataFrame([[d['Week'].iloc[0], d['PC1_std'].std()] for d in [group[1] for group in df_all.groupby('Week')]], columns=['Week', 'std_all'])\n",
    "std_new = pd.DataFrame([[d['Week'].iloc[0], d['PC1_std'].std()] for d in [group[1] for group in df_new.groupby('Week')]], columns=['Week', 'std_new'])\n",
    "std_quit = pd.DataFrame([[d['Week'].iloc[0], d['PC1_std'].std()] for d in [group[1] for group in df_quit.groupby('Week')]], columns=['Week', 'std_quit'])"
   ]
  },
  {
   "cell_type": "code",
   "execution_count": 39,
   "metadata": {},
   "outputs": [],
   "source": [
    "std_whole['Week'] = std_whole['Week'].apply(lambda x: str(datetime.datetime.strptime(x, '%Y-%m-%d').date() - datetime.timedelta(days=6)))\n",
    "std_all['Week'] = std_all['Week'].apply(lambda x: str(datetime.datetime.strptime(x, '%Y-%m-%d').date() - datetime.timedelta(days=6)))\n",
    "std_new['Week'] = std_new['Week'].apply(lambda x: str(datetime.datetime.strptime(x, '%Y-%m-%d').date() - datetime.timedelta(days=6)))\n",
    "std_quit['Week'] = std_quit['Week'].apply(lambda x: str(datetime.datetime.strptime(x, '%Y-%m-%d').date() - datetime.timedelta(days=6)))"
   ]
  },
  {
   "cell_type": "code",
   "execution_count": 13,
   "metadata": {},
   "outputs": [],
   "source": [
    "reaction = pd.read_csv('/home3/r05322021/Desktop/FB Data/issue_reaction/whole/reaction_weekly.csv')\n",
    "user = pd.read_csv('/home3/r05322021/Desktop/FB Data/issue_reaction/whole/user_weekly.csv')\n",
    "post = pd.read_csv('/home3/r05322021/Desktop/FB Data/issue_reaction/whole/post_weekly.csv')\n",
    "reaction = reaction[reaction.Week < '2016-11-27']\n",
    "user = user[user.Week < '2016-11-27']\n",
    "post = post[post.Week < '2016-11-27']"
   ]
  },
  {
   "cell_type": "code",
   "execution_count": 15,
   "metadata": {},
   "outputs": [],
   "source": [
    "reaction_immigration = reaction[reaction.type == 'immigration'][['Week', 'amount', 'ratio']].rename(columns={'amount': 'immigration_reaction_amount', 'ratio': 'immigration_reaction_ratio'})\n",
    "reaction_race = reaction[reaction.type == 'race'][['Week', 'amount', 'ratio']].rename(columns={'amount': 'race_reaction_amount', 'ratio': 'race_reaction_ratio'})\n",
    "user_immigration = user[user.type == 'immigration'][['Week', 'amount', 'ratio']].rename(columns={'amount': 'immigration_user_amount', 'ratio': 'immigration_user_ratio'})\n",
    "user_race = user[user.type == 'race'][['Week', 'amount', 'ratio']].rename(columns={'amount': 'race_user_amount', 'ratio': 'race_user_ratio'})\n",
    "post_immigration = post[post.type == 'immigration'][['Week', 'amount', 'ratio']].rename(columns={'amount': 'immigration_post_amount', 'ratio': 'immigration_post_ratio'})\n",
    "post_race = post[post.type == 'race'][['Week', 'amount', 'ratio']].rename(columns={'amount': 'race_post_amount', 'ratio': 'race_post_ratio'})"
   ]
  },
  {
   "cell_type": "code",
   "execution_count": 27,
   "metadata": {},
   "outputs": [],
   "source": [
    "FB_df = pd.merge(reaction_immigration, reaction_race, how='inner', on=['Week'])\n",
    "for d in [user_immigration, user_race]:\n",
    "    FB_df = pd.merge(FB_df, d, how='inner', on=['Week'])\n",
    "for d in [post_immigration, post_race]:\n",
    "    FB_df = pd.merge(FB_df, d, how='inner', on=['Week'])\n",
    "for col in ['reaction_amount', 'reaction_ratio', 'user_amount', 'user_ratio', 'post_amount', 'post_ratio']:\n",
    "    FB_df[f'related_{col}'] = FB_df[f'immigration_{col}'] + FB_df[f'race_{col}']"
   ]
  },
  {
   "cell_type": "code",
   "execution_count": 42,
   "metadata": {},
   "outputs": [],
   "source": [
    "for df in [std_whole, std_all, std_new, std_quit]:\n",
    "    FB_df = pd.merge(FB_df, df, how='inner', on='Week')"
   ]
  },
  {
   "cell_type": "code",
   "execution_count": 44,
   "metadata": {},
   "outputs": [],
   "source": [
    "FB_df.to_csv('/home3/r05322021/Desktop/FB Data/Polarization/polarization_issue.csv', index=False)"
   ]
  },
  {
   "cell_type": "code",
   "execution_count": null,
   "metadata": {},
   "outputs": [],
   "source": []
  }
 ],
 "metadata": {
  "kernelspec": {
   "display_name": "FB",
   "language": "python",
   "name": "fb"
  },
  "language_info": {
   "codemirror_mode": {
    "name": "ipython",
    "version": 3
   },
   "file_extension": ".py",
   "mimetype": "text/x-python",
   "name": "python",
   "nbconvert_exporter": "python",
   "pygments_lexer": "ipython3",
   "version": "3.6.10"
  }
 },
 "nbformat": 4,
 "nbformat_minor": 2
}
